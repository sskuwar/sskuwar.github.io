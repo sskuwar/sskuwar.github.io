{
 "cells": [
  {
   "cell_type": "markdown",
   "metadata": {},
   "source": [
    "# Leaflet cluster map of talk locations\n",
    "\n",
    "Run this from the _talks/ directory, which contains .md files of all your talks. This scrapes the location YAML field from each .md file, geolocates it with geopy/Nominatim, and uses the getorg library to output data, HTML, and Javascript for a standalone cluster map."
   ]
  },
  {
   "cell_type": "code",
   "execution_count": 18,
   "metadata": {},
   "outputs": [
    {
     "name": "stdout",
     "output_type": "stream",
     "text": [
      "Requirement already up-to-date: getorg in /anaconda3/lib/python3.6/site-packages\n",
      "Requirement already up-to-date: geopy in /anaconda3/lib/python3.6/site-packages (from getorg)\n",
      "Requirement already up-to-date: pygithub in /anaconda3/lib/python3.6/site-packages (from getorg)\n",
      "Requirement already up-to-date: retrying in /anaconda3/lib/python3.6/site-packages (from getorg)\n",
      "Requirement already up-to-date: pyjwt in /anaconda3/lib/python3.6/site-packages (from pygithub->getorg)\n",
      "Requirement already up-to-date: six>=1.7.0 in /anaconda3/lib/python3.6/site-packages (from retrying->getorg)\n"
     ]
    }
   ],
   "source": [
    "!pip install getorg --upgrade\n",
    "import glob\n",
    "import getorg\n",
    "from geopy import Nominatim"
   ]
  },
  {
   "cell_type": "code",
   "execution_count": 19,
   "metadata": {},
   "outputs": [],
   "source": [
    "g = glob.glob(\"*.md\")"
   ]
  },
  {
   "cell_type": "code",
   "execution_count": 20,
   "metadata": {},
   "outputs": [],
   "source": [
    "geocoder = Nominatim()\n",
    "location_dict = {}\n",
    "location = \"\"\n",
    "permalink = \"\"\n",
    "title = \"\"\n",
    "venue = \"\"\n",
    "count=0"
   ]
  },
  {
   "cell_type": "code",
   "execution_count": 22,
   "metadata": {
    "scrolled": true
   },
   "outputs": [
    {
     "name": "stdout",
     "output_type": "stream",
     "text": [
      "Adaptive regulation of midgut serine proteases of *Helicoverpa armigera* in response to Soybean Kunitz trypsin inhibitor. | Seventh International Symposium on Molecular Insect Science, Amsterdam, NETHERLAND \n",
      " None\n",
      "Adaptive evolution of serine protease superfamily and transcriptional response to a plant\n",
      "protease inhibitor in *Helicoverpa armigera*. | Dornburg castle, Jena, GERMANY \n",
      " Jena, Thüringen, 07743, Deutschland\n",
      "Differential regulation of serine protease multigene family against a plant protease inhibitor in *Helicoverpa armigera*. | Scientific Advisory Board Meeting 2012, Jena, GERMANY \n",
      " Jena, Thüringen, 07743, Deutschland\n",
      "Annotation of serine protease superfamily and transcriptional response to a plant protease inhibitor in Helicoverpa armigera. |  6th Annual Arthropod Genomic Symposium, Kansas City, UNITED STATES \n",
      " Kansas City, Jackson County, Missouri, United States of America\n",
      "Molecular evolution of serine protease superfamily and adaptive response to a plant protease inhibitor in *Helicoverpa armigera*.  | Scientific Advisory Board Meeting 2014, Jena, GERMANY \n",
      " Jena, Thüringen, 07743, Deutschland\n",
      " Molecular evolution of serine protease superfamily and adaptive response to soybean Kunitz trypsin inhibitor in *Helicoverpa armigera*. | International Chemical Ecology Conference 2013, International Society of Chemical Ecology, Asia Pacific\n",
      "Association of Chemical Ecologists, Melbourne, AUSTRALIA \n",
      " Melbourne, City of Melbourne, Greater Melbourne, Victoria, 3000, Australia\n",
      " Molecular evolution of digestive serine proteases of *Helicoverpa armigera*. |   International Max Planck Research School Symposium, Jena, GERMANY \n",
      " Jena, Thüringen, 07743, Deutschland\n",
      "Transcriptional and translational response to a plant protease inhibitor and Annotation of\n",
      "serine protease superfamily in Helicoverpa armigera. | South China Normal University, Guangzhou, CHINA \n",
      " 广州市 Guangzhou (Canton), 广东省, 中国\n",
      "Molecular evolution of the serine protease superfamily and adaptive response to a plant\n",
      "protease inhibitor in *Helicoverpa armigera* | Orthodox Academy of Crete, Kolympari, Crete, GREECE \n",
      " None\n",
      " Adaptive evolution and regulation of digestive serine protease superfamily in *Helicoverpa armigera*. |   Institute of Chemical Ecology Symposium, Jena, GERMANY \n",
      " Jena, Thüringen, 07743, Deutschland\n",
      " Kinetic modeling of thermal inactivation of soluble and immobilized aminoacylase on novel acrylic beaded polymers. |    Industry-Institute of Bio-informatics and biotechnology meeting., Pune, INDIA \n",
      " Pune, Maharashtra, 411001, India\n"
     ]
    }
   ],
   "source": [
    "for file in g:\n",
    "    with open(file, 'r') as f:\n",
    "        lines = f.read()\n",
    "        if lines.find('location: \"') > 1:\n",
    "            loc_start = lines.find('location: \"') + 11\n",
    "            lines_trim = lines[loc_start:]\n",
    "            loc_end = lines_trim.find('\"')\n",
    "            location = lines_trim[:loc_end]\n",
    "        if lines.find('title: \"') > 1:\n",
    "            loc_start = lines.find('title: \"') + 8\n",
    "            lines_trim = lines[loc_start:]\n",
    "            loc_end = lines_trim.find('\"')\n",
    "            title = lines_trim[:loc_end]\n",
    "        if lines.find('venue: \"') > 1:\n",
    "            loc_start = lines.find('venue: \"') + 8\n",
    "            lines_trim = lines[loc_start:]\n",
    "            loc_end = lines_trim.find('\"')\n",
    "            venue = lines_trim[:loc_end]\n",
    "\n",
    "        key = str(title + \" | \" + venue + \", \" + location)\n",
    "\n",
    "        location_dict[key] = geocoder.geocode(location)\n",
    "        print(key, \"\\n\", location_dict[key])\n",
    "    count = count + 1"
   ]
  },
  {
   "cell_type": "code",
   "execution_count": 23,
   "metadata": {},
   "outputs": [
    {
     "data": {
      "text/plain": [
       "'Written map to ../talkmap/'"
      ]
     },
     "execution_count": 23,
     "metadata": {},
     "output_type": "execute_result"
    }
   ],
   "source": [
    "m = getorg.orgmap.create_map_obj()\n",
    "getorg.orgmap.output_html_cluster_map(location_dict, folder_name=\"../talkmap\", hashed_usernames=False)"
   ]
  },
  {
   "cell_type": "code",
   "execution_count": null,
   "metadata": {},
   "outputs": [],
   "source": []
  },
  {
   "cell_type": "code",
   "execution_count": null,
   "metadata": {},
   "outputs": [],
   "source": []
  },
  {
   "cell_type": "code",
   "execution_count": null,
   "metadata": {},
   "outputs": [],
   "source": []
  },
  {
   "cell_type": "code",
   "execution_count": null,
   "metadata": {},
   "outputs": [],
   "source": []
  },
  {
   "cell_type": "code",
   "execution_count": null,
   "metadata": {},
   "outputs": [],
   "source": []
  },
  {
   "cell_type": "code",
   "execution_count": null,
   "metadata": {},
   "outputs": [],
   "source": []
  },
  {
   "cell_type": "code",
   "execution_count": null,
   "metadata": {},
   "outputs": [],
   "source": []
  },
  {
   "cell_type": "code",
   "execution_count": null,
   "metadata": {},
   "outputs": [],
   "source": []
  },
  {
   "cell_type": "code",
   "execution_count": null,
   "metadata": {},
   "outputs": [],
   "source": []
  },
  {
   "cell_type": "code",
   "execution_count": null,
   "metadata": {},
   "outputs": [],
   "source": []
  },
  {
   "cell_type": "code",
   "execution_count": null,
   "metadata": {},
   "outputs": [],
   "source": []
  },
  {
   "cell_type": "code",
   "execution_count": null,
   "metadata": {},
   "outputs": [],
   "source": []
  }
 ],
 "metadata": {
  "anaconda-cloud": {},
  "kernelspec": {
   "display_name": "Python 3",
   "language": "python",
   "name": "python3"
  },
  "language_info": {
   "codemirror_mode": {
    "name": "ipython",
    "version": 3
   },
   "file_extension": ".py",
   "mimetype": "text/x-python",
   "name": "python",
   "nbconvert_exporter": "python",
   "pygments_lexer": "ipython3",
   "version": "3.6.4"
  }
 },
 "nbformat": 4,
 "nbformat_minor": 1
}
